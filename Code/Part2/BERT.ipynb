{
  "cells": [
    {
      "cell_type": "code",
      "source": [
        "from google.colab import drive\n",
        "drive.mount('/content/drive')"
      ],
      "metadata": {
        "colab": {
          "base_uri": "https://localhost:8080/"
        },
        "id": "b9lXFAvEwieH",
        "outputId": "be730d3e-ba72-49da-e777-8b3ee1e9be7a"
      },
      "execution_count": 1,
      "outputs": [
        {
          "output_type": "stream",
          "name": "stdout",
          "text": [
            "Mounted at /content/drive\n"
          ]
        }
      ]
    },
    {
      "cell_type": "code",
      "execution_count": null,
      "metadata": {
        "collapsed": true,
        "id": "aRmdT41glPiv",
        "colab": {
          "base_uri": "https://localhost:8080/"
        },
        "outputId": "9f225a27-f82e-47d2-a8f3-405754f11dc7"
      },
      "outputs": [
        {
          "output_type": "stream",
          "name": "stdout",
          "text": [
            "Looking in indexes: https://pypi.org/simple, https://us-python.pkg.dev/colab-wheels/public/simple/\n",
            "Collecting tensorflow-text\n",
            "  Downloading tensorflow_text-2.12.1-cp310-cp310-manylinux_2_17_x86_64.manylinux2014_x86_64.whl (6.0 MB)\n",
            "\u001b[2K     \u001b[90m━━━━━━━━━━━━━━━━━━━━━━━━━━━━━━━━━━━━━━━━\u001b[0m \u001b[32m6.0/6.0 MB\u001b[0m \u001b[31m83.6 MB/s\u001b[0m eta \u001b[36m0:00:00\u001b[0m\n",
            "\u001b[?25hRequirement already satisfied: tensorflow-hub>=0.8.0 in /usr/local/lib/python3.10/dist-packages (from tensorflow-text) (0.13.0)\n",
            "Requirement already satisfied: tensorflow<2.13,>=2.12.0 in /usr/local/lib/python3.10/dist-packages (from tensorflow-text) (2.12.0)\n",
            "Requirement already satisfied: opt-einsum>=2.3.2 in /usr/local/lib/python3.10/dist-packages (from tensorflow<2.13,>=2.12.0->tensorflow-text) (3.3.0)\n",
            "Requirement already satisfied: tensorflow-io-gcs-filesystem>=0.23.1 in /usr/local/lib/python3.10/dist-packages (from tensorflow<2.13,>=2.12.0->tensorflow-text) (0.32.0)\n",
            "Requirement already satisfied: gast<=0.4.0,>=0.2.1 in /usr/local/lib/python3.10/dist-packages (from tensorflow<2.13,>=2.12.0->tensorflow-text) (0.4.0)\n",
            "Requirement already satisfied: packaging in /usr/local/lib/python3.10/dist-packages (from tensorflow<2.13,>=2.12.0->tensorflow-text) (23.1)\n",
            "Requirement already satisfied: wrapt<1.15,>=1.11.0 in /usr/local/lib/python3.10/dist-packages (from tensorflow<2.13,>=2.12.0->tensorflow-text) (1.14.1)\n",
            "Requirement already satisfied: grpcio<2.0,>=1.24.3 in /usr/local/lib/python3.10/dist-packages (from tensorflow<2.13,>=2.12.0->tensorflow-text) (1.54.0)\n",
            "Requirement already satisfied: keras<2.13,>=2.12.0 in /usr/local/lib/python3.10/dist-packages (from tensorflow<2.13,>=2.12.0->tensorflow-text) (2.12.0)\n",
            "Requirement already satisfied: six>=1.12.0 in /usr/local/lib/python3.10/dist-packages (from tensorflow<2.13,>=2.12.0->tensorflow-text) (1.16.0)\n",
            "Requirement already satisfied: tensorboard<2.13,>=2.12 in /usr/local/lib/python3.10/dist-packages (from tensorflow<2.13,>=2.12.0->tensorflow-text) (2.12.2)\n",
            "Requirement already satisfied: h5py>=2.9.0 in /usr/local/lib/python3.10/dist-packages (from tensorflow<2.13,>=2.12.0->tensorflow-text) (3.8.0)\n",
            "Requirement already satisfied: flatbuffers>=2.0 in /usr/local/lib/python3.10/dist-packages (from tensorflow<2.13,>=2.12.0->tensorflow-text) (23.3.3)\n",
            "Requirement already satisfied: setuptools in /usr/local/lib/python3.10/dist-packages (from tensorflow<2.13,>=2.12.0->tensorflow-text) (67.7.2)\n",
            "Requirement already satisfied: libclang>=13.0.0 in /usr/local/lib/python3.10/dist-packages (from tensorflow<2.13,>=2.12.0->tensorflow-text) (16.0.0)\n",
            "Requirement already satisfied: typing-extensions>=3.6.6 in /usr/local/lib/python3.10/dist-packages (from tensorflow<2.13,>=2.12.0->tensorflow-text) (4.5.0)\n",
            "Requirement already satisfied: astunparse>=1.6.0 in /usr/local/lib/python3.10/dist-packages (from tensorflow<2.13,>=2.12.0->tensorflow-text) (1.6.3)\n",
            "Requirement already satisfied: protobuf!=4.21.0,!=4.21.1,!=4.21.2,!=4.21.3,!=4.21.4,!=4.21.5,<5.0.0dev,>=3.20.3 in /usr/local/lib/python3.10/dist-packages (from tensorflow<2.13,>=2.12.0->tensorflow-text) (3.20.3)\n",
            "Requirement already satisfied: absl-py>=1.0.0 in /usr/local/lib/python3.10/dist-packages (from tensorflow<2.13,>=2.12.0->tensorflow-text) (1.4.0)\n",
            "Requirement already satisfied: jax>=0.3.15 in /usr/local/lib/python3.10/dist-packages (from tensorflow<2.13,>=2.12.0->tensorflow-text) (0.4.8)\n",
            "Requirement already satisfied: tensorflow-estimator<2.13,>=2.12.0 in /usr/local/lib/python3.10/dist-packages (from tensorflow<2.13,>=2.12.0->tensorflow-text) (2.12.0)\n",
            "Requirement already satisfied: termcolor>=1.1.0 in /usr/local/lib/python3.10/dist-packages (from tensorflow<2.13,>=2.12.0->tensorflow-text) (2.3.0)\n",
            "Requirement already satisfied: numpy<1.24,>=1.22 in /usr/local/lib/python3.10/dist-packages (from tensorflow<2.13,>=2.12.0->tensorflow-text) (1.22.4)\n",
            "Requirement already satisfied: google-pasta>=0.1.1 in /usr/local/lib/python3.10/dist-packages (from tensorflow<2.13,>=2.12.0->tensorflow-text) (0.2.0)\n",
            "Requirement already satisfied: wheel<1.0,>=0.23.0 in /usr/local/lib/python3.10/dist-packages (from astunparse>=1.6.0->tensorflow<2.13,>=2.12.0->tensorflow-text) (0.40.0)\n",
            "Requirement already satisfied: scipy>=1.7 in /usr/local/lib/python3.10/dist-packages (from jax>=0.3.15->tensorflow<2.13,>=2.12.0->tensorflow-text) (1.10.1)\n",
            "Requirement already satisfied: ml-dtypes>=0.0.3 in /usr/local/lib/python3.10/dist-packages (from jax>=0.3.15->tensorflow<2.13,>=2.12.0->tensorflow-text) (0.1.0)\n",
            "Requirement already satisfied: google-auth<3,>=1.6.3 in /usr/local/lib/python3.10/dist-packages (from tensorboard<2.13,>=2.12->tensorflow<2.13,>=2.12.0->tensorflow-text) (2.17.3)\n",
            "Requirement already satisfied: tensorboard-plugin-wit>=1.6.0 in /usr/local/lib/python3.10/dist-packages (from tensorboard<2.13,>=2.12->tensorflow<2.13,>=2.12.0->tensorflow-text) (1.8.1)\n",
            "Requirement already satisfied: markdown>=2.6.8 in /usr/local/lib/python3.10/dist-packages (from tensorboard<2.13,>=2.12->tensorflow<2.13,>=2.12.0->tensorflow-text) (3.4.3)\n",
            "Requirement already satisfied: werkzeug>=1.0.1 in /usr/local/lib/python3.10/dist-packages (from tensorboard<2.13,>=2.12->tensorflow<2.13,>=2.12.0->tensorflow-text) (2.3.0)\n",
            "Requirement already satisfied: requests<3,>=2.21.0 in /usr/local/lib/python3.10/dist-packages (from tensorboard<2.13,>=2.12->tensorflow<2.13,>=2.12.0->tensorflow-text) (2.27.1)\n",
            "Requirement already satisfied: tensorboard-data-server<0.8.0,>=0.7.0 in /usr/local/lib/python3.10/dist-packages (from tensorboard<2.13,>=2.12->tensorflow<2.13,>=2.12.0->tensorflow-text) (0.7.0)\n",
            "Requirement already satisfied: google-auth-oauthlib<1.1,>=0.5 in /usr/local/lib/python3.10/dist-packages (from tensorboard<2.13,>=2.12->tensorflow<2.13,>=2.12.0->tensorflow-text) (1.0.0)\n",
            "Requirement already satisfied: pyasn1-modules>=0.2.1 in /usr/local/lib/python3.10/dist-packages (from google-auth<3,>=1.6.3->tensorboard<2.13,>=2.12->tensorflow<2.13,>=2.12.0->tensorflow-text) (0.3.0)\n",
            "Requirement already satisfied: cachetools<6.0,>=2.0.0 in /usr/local/lib/python3.10/dist-packages (from google-auth<3,>=1.6.3->tensorboard<2.13,>=2.12->tensorflow<2.13,>=2.12.0->tensorflow-text) (5.3.0)\n",
            "Requirement already satisfied: rsa<5,>=3.1.4 in /usr/local/lib/python3.10/dist-packages (from google-auth<3,>=1.6.3->tensorboard<2.13,>=2.12->tensorflow<2.13,>=2.12.0->tensorflow-text) (4.9)\n",
            "Requirement already satisfied: requests-oauthlib>=0.7.0 in /usr/local/lib/python3.10/dist-packages (from google-auth-oauthlib<1.1,>=0.5->tensorboard<2.13,>=2.12->tensorflow<2.13,>=2.12.0->tensorflow-text) (1.3.1)\n",
            "Requirement already satisfied: idna<4,>=2.5 in /usr/local/lib/python3.10/dist-packages (from requests<3,>=2.21.0->tensorboard<2.13,>=2.12->tensorflow<2.13,>=2.12.0->tensorflow-text) (3.4)\n",
            "Requirement already satisfied: charset-normalizer~=2.0.0 in /usr/local/lib/python3.10/dist-packages (from requests<3,>=2.21.0->tensorboard<2.13,>=2.12->tensorflow<2.13,>=2.12.0->tensorflow-text) (2.0.12)\n",
            "Requirement already satisfied: certifi>=2017.4.17 in /usr/local/lib/python3.10/dist-packages (from requests<3,>=2.21.0->tensorboard<2.13,>=2.12->tensorflow<2.13,>=2.12.0->tensorflow-text) (2022.12.7)\n",
            "Requirement already satisfied: urllib3<1.27,>=1.21.1 in /usr/local/lib/python3.10/dist-packages (from requests<3,>=2.21.0->tensorboard<2.13,>=2.12->tensorflow<2.13,>=2.12.0->tensorflow-text) (1.26.15)\n",
            "Requirement already satisfied: MarkupSafe>=2.1.1 in /usr/local/lib/python3.10/dist-packages (from werkzeug>=1.0.1->tensorboard<2.13,>=2.12->tensorflow<2.13,>=2.12.0->tensorflow-text) (2.1.2)\n",
            "Requirement already satisfied: pyasn1<0.6.0,>=0.4.6 in /usr/local/lib/python3.10/dist-packages (from pyasn1-modules>=0.2.1->google-auth<3,>=1.6.3->tensorboard<2.13,>=2.12->tensorflow<2.13,>=2.12.0->tensorflow-text) (0.5.0)\n",
            "Requirement already satisfied: oauthlib>=3.0.0 in /usr/local/lib/python3.10/dist-packages (from requests-oauthlib>=0.7.0->google-auth-oauthlib<1.1,>=0.5->tensorboard<2.13,>=2.12->tensorflow<2.13,>=2.12.0->tensorflow-text) (3.2.2)\n",
            "Installing collected packages: tensorflow-text\n",
            "Successfully installed tensorflow-text-2.12.1\n"
          ]
        }
      ],
      "source": [
        "# !pip install tensorflow\n",
        "!pip install tensorflow-text"
      ]
    },
    {
      "cell_type": "code",
      "execution_count": null,
      "metadata": {
        "id": "kjV6EG5DM8YX"
      },
      "outputs": [],
      "source": [
        "import tensorflow as tf\n",
        "import tensorflow_text as text"
      ]
    },
    {
      "cell_type": "code",
      "execution_count": null,
      "metadata": {
        "colab": {
          "base_uri": "https://localhost:8080/",
          "height": 1000
        },
        "id": "qgd1QGJPlR6n",
        "outputId": "9b5d77c9-d1cf-4f3c-f660-b3d646213655"
      },
      "outputs": [
        {
          "output_type": "execute_result",
          "data": {
            "text/plain": [
              "                                          article_id sectionName  \\\n",
              "0  us-news/2016/jan/31/iowa-caucus-underdog-candi...     US news   \n",
              "1  us-news/2016/jan/31/iowa-caucus-worlds-most-pa...     US news   \n",
              "2  world/2016/jan/31/tanzania-britsh-helicopter-p...  World news   \n",
              "3  football/2016/jan/31/late-winner-gets-usa-off-...    Football   \n",
              "4  football/2016/jan/31/blackburn-paul-lambert-ox...    Football   \n",
              "5  football/blog/2016/jan/31/leyton-orient-cambri...    Football   \n",
              "6  football/2016/jan/31/jurgen-klopp-liverpool-yo...    Football   \n",
              "7  football/2016/jan/31/saido-berahino-west-brom-...    Football   \n",
              "8  football/2016/jan/31/tommy-elphick-harry-arter...    Football   \n",
              "9  football/blog/2016/jan/31/john-terry-leaves-ch...    Football   \n",
              "\n",
              "                                            webTitle  \\\n",
              "0  Iowa underdogs put on brave faces despite all ...   \n",
              "1  Iowa caucus: hologram eagle and Jesus star on ...   \n",
              "2  British pilot in Tanzania 'manoeuvred ​to save...   \n",
              "3  USA 3-2 Iceland | International friendly match...   \n",
              "4  Reinvigorated Paul Lambert reflects after impr...   \n",
              "5  Leyton Orient’s Kevin Nolan admits to hurt aft...   \n",
              "6  Jürgen Klopp hails Liverpool youngsters but re...   \n",
              "7  Saido Berahino has right attitude but he’s not...   \n",
              "8  Tommy Elphick turns thoughts to Harry Arter af...   \n",
              "9  John Terry to leave Chelsea as one of the club...   \n",
              "\n",
              "                                              webUrl  \\\n",
              "0  https://www.theguardian.com/us-news/2016/jan/3...   \n",
              "1  https://www.theguardian.com/us-news/2016/jan/3...   \n",
              "2  https://www.theguardian.com/world/2016/jan/31/...   \n",
              "3  https://www.theguardian.com/football/2016/jan/...   \n",
              "4  https://www.theguardian.com/football/2016/jan/...   \n",
              "5  https://www.theguardian.com/football/blog/2016...   \n",
              "6  https://www.theguardian.com/football/2016/jan/...   \n",
              "7  https://www.theguardian.com/football/2016/jan/...   \n",
              "8  https://www.theguardian.com/football/2016/jan/...   \n",
              "9  https://www.theguardian.com/football/blog/2016...   \n",
              "\n",
              "                                         bodyContent    webPublicationDate  id  \n",
              "0  As polling day looms and the cameras turn only...  2016-01-31T23:53:37Z   1  \n",
              "1  In Des Moines on Sunday, the Guardian was give...  2016-01-31T23:46:28Z   2  \n",
              "2  A British pilot who was shot dead by an elepha...  2016-01-31T23:43:48Z   3  \n",
              "3  USA took a step toward shaking off the ghosts ...  2016-01-31T23:30:49Z   4  \n",
              "4  The clean-shaven, spectacle free and suspiciou...  2016-01-31T22:30:10Z   5  \n",
              "5  Reality caught up with Kevin Nolan on Saturday...  2016-01-31T22:30:10Z   6  \n",
              "6  Jürgen Klopp’s exasperation was understandable...  2016-01-31T22:30:10Z   7  \n",
              "7  Tony Pulis hopes his only transfer business be...  2016-01-31T22:30:10Z   8  \n",
              "8  Tommy Elphick paid tribute to his team-mate Ha...  2016-01-31T22:30:10Z   9  \n",
              "9  Many will just shrug and mutter good riddance....  2016-01-31T22:27:16Z  10  "
            ],
            "text/html": [
              "\n",
              "  <div id=\"df-6eb4d6ba-e241-4837-8273-6a6fe06dfbc1\">\n",
              "    <div class=\"colab-df-container\">\n",
              "      <div>\n",
              "<style scoped>\n",
              "    .dataframe tbody tr th:only-of-type {\n",
              "        vertical-align: middle;\n",
              "    }\n",
              "\n",
              "    .dataframe tbody tr th {\n",
              "        vertical-align: top;\n",
              "    }\n",
              "\n",
              "    .dataframe thead th {\n",
              "        text-align: right;\n",
              "    }\n",
              "</style>\n",
              "<table border=\"1\" class=\"dataframe\">\n",
              "  <thead>\n",
              "    <tr style=\"text-align: right;\">\n",
              "      <th></th>\n",
              "      <th>article_id</th>\n",
              "      <th>sectionName</th>\n",
              "      <th>webTitle</th>\n",
              "      <th>webUrl</th>\n",
              "      <th>bodyContent</th>\n",
              "      <th>webPublicationDate</th>\n",
              "      <th>id</th>\n",
              "    </tr>\n",
              "  </thead>\n",
              "  <tbody>\n",
              "    <tr>\n",
              "      <th>0</th>\n",
              "      <td>us-news/2016/jan/31/iowa-caucus-underdog-candi...</td>\n",
              "      <td>US news</td>\n",
              "      <td>Iowa underdogs put on brave faces despite all ...</td>\n",
              "      <td>https://www.theguardian.com/us-news/2016/jan/3...</td>\n",
              "      <td>As polling day looms and the cameras turn only...</td>\n",
              "      <td>2016-01-31T23:53:37Z</td>\n",
              "      <td>1</td>\n",
              "    </tr>\n",
              "    <tr>\n",
              "      <th>1</th>\n",
              "      <td>us-news/2016/jan/31/iowa-caucus-worlds-most-pa...</td>\n",
              "      <td>US news</td>\n",
              "      <td>Iowa caucus: hologram eagle and Jesus star on ...</td>\n",
              "      <td>https://www.theguardian.com/us-news/2016/jan/3...</td>\n",
              "      <td>In Des Moines on Sunday, the Guardian was give...</td>\n",
              "      <td>2016-01-31T23:46:28Z</td>\n",
              "      <td>2</td>\n",
              "    </tr>\n",
              "    <tr>\n",
              "      <th>2</th>\n",
              "      <td>world/2016/jan/31/tanzania-britsh-helicopter-p...</td>\n",
              "      <td>World news</td>\n",
              "      <td>British pilot in Tanzania 'manoeuvred ​to save...</td>\n",
              "      <td>https://www.theguardian.com/world/2016/jan/31/...</td>\n",
              "      <td>A British pilot who was shot dead by an elepha...</td>\n",
              "      <td>2016-01-31T23:43:48Z</td>\n",
              "      <td>3</td>\n",
              "    </tr>\n",
              "    <tr>\n",
              "      <th>3</th>\n",
              "      <td>football/2016/jan/31/late-winner-gets-usa-off-...</td>\n",
              "      <td>Football</td>\n",
              "      <td>USA 3-2 Iceland | International friendly match...</td>\n",
              "      <td>https://www.theguardian.com/football/2016/jan/...</td>\n",
              "      <td>USA took a step toward shaking off the ghosts ...</td>\n",
              "      <td>2016-01-31T23:30:49Z</td>\n",
              "      <td>4</td>\n",
              "    </tr>\n",
              "    <tr>\n",
              "      <th>4</th>\n",
              "      <td>football/2016/jan/31/blackburn-paul-lambert-ox...</td>\n",
              "      <td>Football</td>\n",
              "      <td>Reinvigorated Paul Lambert reflects after impr...</td>\n",
              "      <td>https://www.theguardian.com/football/2016/jan/...</td>\n",
              "      <td>The clean-shaven, spectacle free and suspiciou...</td>\n",
              "      <td>2016-01-31T22:30:10Z</td>\n",
              "      <td>5</td>\n",
              "    </tr>\n",
              "    <tr>\n",
              "      <th>5</th>\n",
              "      <td>football/blog/2016/jan/31/leyton-orient-cambri...</td>\n",
              "      <td>Football</td>\n",
              "      <td>Leyton Orient’s Kevin Nolan admits to hurt aft...</td>\n",
              "      <td>https://www.theguardian.com/football/blog/2016...</td>\n",
              "      <td>Reality caught up with Kevin Nolan on Saturday...</td>\n",
              "      <td>2016-01-31T22:30:10Z</td>\n",
              "      <td>6</td>\n",
              "    </tr>\n",
              "    <tr>\n",
              "      <th>6</th>\n",
              "      <td>football/2016/jan/31/jurgen-klopp-liverpool-yo...</td>\n",
              "      <td>Football</td>\n",
              "      <td>Jürgen Klopp hails Liverpool youngsters but re...</td>\n",
              "      <td>https://www.theguardian.com/football/2016/jan/...</td>\n",
              "      <td>Jürgen Klopp’s exasperation was understandable...</td>\n",
              "      <td>2016-01-31T22:30:10Z</td>\n",
              "      <td>7</td>\n",
              "    </tr>\n",
              "    <tr>\n",
              "      <th>7</th>\n",
              "      <td>football/2016/jan/31/saido-berahino-west-brom-...</td>\n",
              "      <td>Football</td>\n",
              "      <td>Saido Berahino has right attitude but he’s not...</td>\n",
              "      <td>https://www.theguardian.com/football/2016/jan/...</td>\n",
              "      <td>Tony Pulis hopes his only transfer business be...</td>\n",
              "      <td>2016-01-31T22:30:10Z</td>\n",
              "      <td>8</td>\n",
              "    </tr>\n",
              "    <tr>\n",
              "      <th>8</th>\n",
              "      <td>football/2016/jan/31/tommy-elphick-harry-arter...</td>\n",
              "      <td>Football</td>\n",
              "      <td>Tommy Elphick turns thoughts to Harry Arter af...</td>\n",
              "      <td>https://www.theguardian.com/football/2016/jan/...</td>\n",
              "      <td>Tommy Elphick paid tribute to his team-mate Ha...</td>\n",
              "      <td>2016-01-31T22:30:10Z</td>\n",
              "      <td>9</td>\n",
              "    </tr>\n",
              "    <tr>\n",
              "      <th>9</th>\n",
              "      <td>football/blog/2016/jan/31/john-terry-leaves-ch...</td>\n",
              "      <td>Football</td>\n",
              "      <td>John Terry to leave Chelsea as one of the club...</td>\n",
              "      <td>https://www.theguardian.com/football/blog/2016...</td>\n",
              "      <td>Many will just shrug and mutter good riddance....</td>\n",
              "      <td>2016-01-31T22:27:16Z</td>\n",
              "      <td>10</td>\n",
              "    </tr>\n",
              "  </tbody>\n",
              "</table>\n",
              "</div>\n",
              "      <button class=\"colab-df-convert\" onclick=\"convertToInteractive('df-6eb4d6ba-e241-4837-8273-6a6fe06dfbc1')\"\n",
              "              title=\"Convert this dataframe to an interactive table.\"\n",
              "              style=\"display:none;\">\n",
              "        \n",
              "  <svg xmlns=\"http://www.w3.org/2000/svg\" height=\"24px\"viewBox=\"0 0 24 24\"\n",
              "       width=\"24px\">\n",
              "    <path d=\"M0 0h24v24H0V0z\" fill=\"none\"/>\n",
              "    <path d=\"M18.56 5.44l.94 2.06.94-2.06 2.06-.94-2.06-.94-.94-2.06-.94 2.06-2.06.94zm-11 1L8.5 8.5l.94-2.06 2.06-.94-2.06-.94L8.5 2.5l-.94 2.06-2.06.94zm10 10l.94 2.06.94-2.06 2.06-.94-2.06-.94-.94-2.06-.94 2.06-2.06.94z\"/><path d=\"M17.41 7.96l-1.37-1.37c-.4-.4-.92-.59-1.43-.59-.52 0-1.04.2-1.43.59L10.3 9.45l-7.72 7.72c-.78.78-.78 2.05 0 2.83L4 21.41c.39.39.9.59 1.41.59.51 0 1.02-.2 1.41-.59l7.78-7.78 2.81-2.81c.8-.78.8-2.07 0-2.86zM5.41 20L4 18.59l7.72-7.72 1.47 1.35L5.41 20z\"/>\n",
              "  </svg>\n",
              "      </button>\n",
              "      \n",
              "  <style>\n",
              "    .colab-df-container {\n",
              "      display:flex;\n",
              "      flex-wrap:wrap;\n",
              "      gap: 12px;\n",
              "    }\n",
              "\n",
              "    .colab-df-convert {\n",
              "      background-color: #E8F0FE;\n",
              "      border: none;\n",
              "      border-radius: 50%;\n",
              "      cursor: pointer;\n",
              "      display: none;\n",
              "      fill: #1967D2;\n",
              "      height: 32px;\n",
              "      padding: 0 0 0 0;\n",
              "      width: 32px;\n",
              "    }\n",
              "\n",
              "    .colab-df-convert:hover {\n",
              "      background-color: #E2EBFA;\n",
              "      box-shadow: 0px 1px 2px rgba(60, 64, 67, 0.3), 0px 1px 3px 1px rgba(60, 64, 67, 0.15);\n",
              "      fill: #174EA6;\n",
              "    }\n",
              "\n",
              "    [theme=dark] .colab-df-convert {\n",
              "      background-color: #3B4455;\n",
              "      fill: #D2E3FC;\n",
              "    }\n",
              "\n",
              "    [theme=dark] .colab-df-convert:hover {\n",
              "      background-color: #434B5C;\n",
              "      box-shadow: 0px 1px 3px 1px rgba(0, 0, 0, 0.15);\n",
              "      filter: drop-shadow(0px 1px 2px rgba(0, 0, 0, 0.3));\n",
              "      fill: #FFFFFF;\n",
              "    }\n",
              "  </style>\n",
              "\n",
              "      <script>\n",
              "        const buttonEl =\n",
              "          document.querySelector('#df-6eb4d6ba-e241-4837-8273-6a6fe06dfbc1 button.colab-df-convert');\n",
              "        buttonEl.style.display =\n",
              "          google.colab.kernel.accessAllowed ? 'block' : 'none';\n",
              "\n",
              "        async function convertToInteractive(key) {\n",
              "          const element = document.querySelector('#df-6eb4d6ba-e241-4837-8273-6a6fe06dfbc1');\n",
              "          const dataTable =\n",
              "            await google.colab.kernel.invokeFunction('convertToInteractive',\n",
              "                                                     [key], {});\n",
              "          if (!dataTable) return;\n",
              "\n",
              "          const docLinkHtml = 'Like what you see? Visit the ' +\n",
              "            '<a target=\"_blank\" href=https://colab.research.google.com/notebooks/data_table.ipynb>data table notebook</a>'\n",
              "            + ' to learn more about interactive tables.';\n",
              "          element.innerHTML = '';\n",
              "          dataTable['output_type'] = 'display_data';\n",
              "          await google.colab.output.renderOutput(dataTable, element);\n",
              "          const docLink = document.createElement('div');\n",
              "          docLink.innerHTML = docLinkHtml;\n",
              "          element.appendChild(docLink);\n",
              "        }\n",
              "      </script>\n",
              "    </div>\n",
              "  </div>\n",
              "  "
            ]
          },
          "metadata": {},
          "execution_count": 4
        }
      ],
      "source": [
        "import pandas as pd\n",
        "df=pd.read_csv('drive/MyDrive/Deep_Learning/guardian_articles.csv')\n",
        "# df = pd.read_csv(\"articles.csv\")\n",
        "df.head(10)"
      ]
    },
    {
      "cell_type": "code",
      "execution_count": null,
      "metadata": {
        "id": "FhHjxQCjwMOO"
      },
      "outputs": [],
      "source": [
        "vc = df['sectionName'].value_counts()  # get value counts of 'class' column\n",
        "keep_classes = vc.index[vc >= 7000]  # get classes with counts >= 2\n",
        "df = df[df['sectionName'].isin(keep_classes)]"
      ]
    },
    {
      "cell_type": "code",
      "execution_count": null,
      "metadata": {
        "colab": {
          "base_uri": "https://localhost:8080/",
          "height": 1000
        },
        "collapsed": true,
        "id": "1Hw45K6glR9q",
        "outputId": "5a3404c1-233c-4ac8-9d97-f7ae0b7fc528"
      },
      "outputs": [
        {
          "output_type": "execute_result",
          "data": {
            "text/plain": [
              "                                               article_id     sectionName  \\\n",
              "0       us-news/2016/jan/31/iowa-caucus-underdog-candi...         US news   \n",
              "1       us-news/2016/jan/31/iowa-caucus-worlds-most-pa...         US news   \n",
              "2       world/2016/jan/31/tanzania-britsh-helicopter-p...      World news   \n",
              "3       football/2016/jan/31/late-winner-gets-usa-off-...        Football   \n",
              "4       football/2016/jan/31/blackburn-paul-lambert-ox...        Football   \n",
              "...                                                   ...             ...   \n",
              "149833  sport/2022/jun/21/overton-twins-ready-to-make-...           Sport   \n",
              "149834  world/2022/jun/21/marble-head-of-hercules-pull...      World news   \n",
              "149836  australia-news/2022/jun/22/the-small-town-with...  Australia news   \n",
              "149837  australia-news/2022/jun/22/power-to-ban-citize...  Australia news   \n",
              "149838  australia-news/2022/jun/22/liberal-mps-say-pet...  Australia news   \n",
              "\n",
              "                                                 webTitle  \\\n",
              "0       Iowa underdogs put on brave faces despite all ...   \n",
              "1       Iowa caucus: hologram eagle and Jesus star on ...   \n",
              "2       British pilot in Tanzania 'manoeuvred ​to save...   \n",
              "3       USA 3-2 Iceland | International friendly match...   \n",
              "4       Reinvigorated Paul Lambert reflects after impr...   \n",
              "...                                                   ...   \n",
              "149833  Overton twins ready to make England history ag...   \n",
              "149834  Marble head of Hercules pulled up from Roman s...   \n",
              "149836  The small town with a big potato that inspired...   \n",
              "149837  Power to ban citizens from re-entering Austral...   \n",
              "149838  Liberal MPs say Peter Dutton should let party ...   \n",
              "\n",
              "                                                   webUrl  \\\n",
              "0       https://www.theguardian.com/us-news/2016/jan/3...   \n",
              "1       https://www.theguardian.com/us-news/2016/jan/3...   \n",
              "2       https://www.theguardian.com/world/2016/jan/31/...   \n",
              "3       https://www.theguardian.com/football/2016/jan/...   \n",
              "4       https://www.theguardian.com/football/2016/jan/...   \n",
              "...                                                   ...   \n",
              "149833  https://www.theguardian.com/sport/2022/jun/21/...   \n",
              "149834  https://www.theguardian.com/world/2022/jun/21/...   \n",
              "149836  https://www.theguardian.com/australia-news/202...   \n",
              "149837  https://www.theguardian.com/australia-news/202...   \n",
              "149838  https://www.theguardian.com/australia-news/202...   \n",
              "\n",
              "                                              bodyContent  \\\n",
              "0       As polling day looms and the cameras turn only...   \n",
              "1       In Des Moines on Sunday, the Guardian was give...   \n",
              "2       A British pilot who was shot dead by an elepha...   \n",
              "3       USA took a step toward shaking off the ghosts ...   \n",
              "4       The clean-shaven, spectacle free and suspiciou...   \n",
              "...                                                   ...   \n",
              "149833  There was no Ben Stokes at England training on...   \n",
              "149834  For archaeologists, it’s the underwater find t...   \n",
              "149836  Robertson is a small, pretty town perched on t...   \n",
              "149837  A high court decision striking down the home a...   \n",
              "149838  Liberal MPs are urging Peter Dutton to let the...   \n",
              "\n",
              "          webPublicationDate      id  \n",
              "0       2016-01-31T23:53:37Z       1  \n",
              "1       2016-01-31T23:46:28Z       2  \n",
              "2       2016-01-31T23:43:48Z       3  \n",
              "3       2016-01-31T23:30:49Z       4  \n",
              "4       2016-01-31T22:30:10Z       5  \n",
              "...                      ...     ...  \n",
              "149833  2022-06-21T17:33:41Z  149834  \n",
              "149834  2022-06-21T17:31:32Z  149835  \n",
              "149836  2022-06-21T17:30:09Z  149837  \n",
              "149837  2022-06-21T17:30:08Z  149838  \n",
              "149838  2022-06-21T17:30:08Z  149839  \n",
              "\n",
              "[70723 rows x 7 columns]"
            ],
            "text/html": [
              "\n",
              "  <div id=\"df-5353a9f7-28f5-4806-aa1b-9ee1b5f77da9\">\n",
              "    <div class=\"colab-df-container\">\n",
              "      <div>\n",
              "<style scoped>\n",
              "    .dataframe tbody tr th:only-of-type {\n",
              "        vertical-align: middle;\n",
              "    }\n",
              "\n",
              "    .dataframe tbody tr th {\n",
              "        vertical-align: top;\n",
              "    }\n",
              "\n",
              "    .dataframe thead th {\n",
              "        text-align: right;\n",
              "    }\n",
              "</style>\n",
              "<table border=\"1\" class=\"dataframe\">\n",
              "  <thead>\n",
              "    <tr style=\"text-align: right;\">\n",
              "      <th></th>\n",
              "      <th>article_id</th>\n",
              "      <th>sectionName</th>\n",
              "      <th>webTitle</th>\n",
              "      <th>webUrl</th>\n",
              "      <th>bodyContent</th>\n",
              "      <th>webPublicationDate</th>\n",
              "      <th>id</th>\n",
              "    </tr>\n",
              "  </thead>\n",
              "  <tbody>\n",
              "    <tr>\n",
              "      <th>0</th>\n",
              "      <td>us-news/2016/jan/31/iowa-caucus-underdog-candi...</td>\n",
              "      <td>US news</td>\n",
              "      <td>Iowa underdogs put on brave faces despite all ...</td>\n",
              "      <td>https://www.theguardian.com/us-news/2016/jan/3...</td>\n",
              "      <td>As polling day looms and the cameras turn only...</td>\n",
              "      <td>2016-01-31T23:53:37Z</td>\n",
              "      <td>1</td>\n",
              "    </tr>\n",
              "    <tr>\n",
              "      <th>1</th>\n",
              "      <td>us-news/2016/jan/31/iowa-caucus-worlds-most-pa...</td>\n",
              "      <td>US news</td>\n",
              "      <td>Iowa caucus: hologram eagle and Jesus star on ...</td>\n",
              "      <td>https://www.theguardian.com/us-news/2016/jan/3...</td>\n",
              "      <td>In Des Moines on Sunday, the Guardian was give...</td>\n",
              "      <td>2016-01-31T23:46:28Z</td>\n",
              "      <td>2</td>\n",
              "    </tr>\n",
              "    <tr>\n",
              "      <th>2</th>\n",
              "      <td>world/2016/jan/31/tanzania-britsh-helicopter-p...</td>\n",
              "      <td>World news</td>\n",
              "      <td>British pilot in Tanzania 'manoeuvred ​to save...</td>\n",
              "      <td>https://www.theguardian.com/world/2016/jan/31/...</td>\n",
              "      <td>A British pilot who was shot dead by an elepha...</td>\n",
              "      <td>2016-01-31T23:43:48Z</td>\n",
              "      <td>3</td>\n",
              "    </tr>\n",
              "    <tr>\n",
              "      <th>3</th>\n",
              "      <td>football/2016/jan/31/late-winner-gets-usa-off-...</td>\n",
              "      <td>Football</td>\n",
              "      <td>USA 3-2 Iceland | International friendly match...</td>\n",
              "      <td>https://www.theguardian.com/football/2016/jan/...</td>\n",
              "      <td>USA took a step toward shaking off the ghosts ...</td>\n",
              "      <td>2016-01-31T23:30:49Z</td>\n",
              "      <td>4</td>\n",
              "    </tr>\n",
              "    <tr>\n",
              "      <th>4</th>\n",
              "      <td>football/2016/jan/31/blackburn-paul-lambert-ox...</td>\n",
              "      <td>Football</td>\n",
              "      <td>Reinvigorated Paul Lambert reflects after impr...</td>\n",
              "      <td>https://www.theguardian.com/football/2016/jan/...</td>\n",
              "      <td>The clean-shaven, spectacle free and suspiciou...</td>\n",
              "      <td>2016-01-31T22:30:10Z</td>\n",
              "      <td>5</td>\n",
              "    </tr>\n",
              "    <tr>\n",
              "      <th>...</th>\n",
              "      <td>...</td>\n",
              "      <td>...</td>\n",
              "      <td>...</td>\n",
              "      <td>...</td>\n",
              "      <td>...</td>\n",
              "      <td>...</td>\n",
              "      <td>...</td>\n",
              "    </tr>\n",
              "    <tr>\n",
              "      <th>149833</th>\n",
              "      <td>sport/2022/jun/21/overton-twins-ready-to-make-...</td>\n",
              "      <td>Sport</td>\n",
              "      <td>Overton twins ready to make England history ag...</td>\n",
              "      <td>https://www.theguardian.com/sport/2022/jun/21/...</td>\n",
              "      <td>There was no Ben Stokes at England training on...</td>\n",
              "      <td>2022-06-21T17:33:41Z</td>\n",
              "      <td>149834</td>\n",
              "    </tr>\n",
              "    <tr>\n",
              "      <th>149834</th>\n",
              "      <td>world/2022/jun/21/marble-head-of-hercules-pull...</td>\n",
              "      <td>World news</td>\n",
              "      <td>Marble head of Hercules pulled up from Roman s...</td>\n",
              "      <td>https://www.theguardian.com/world/2022/jun/21/...</td>\n",
              "      <td>For archaeologists, it’s the underwater find t...</td>\n",
              "      <td>2022-06-21T17:31:32Z</td>\n",
              "      <td>149835</td>\n",
              "    </tr>\n",
              "    <tr>\n",
              "      <th>149836</th>\n",
              "      <td>australia-news/2022/jun/22/the-small-town-with...</td>\n",
              "      <td>Australia news</td>\n",
              "      <td>The small town with a big potato that inspired...</td>\n",
              "      <td>https://www.theguardian.com/australia-news/202...</td>\n",
              "      <td>Robertson is a small, pretty town perched on t...</td>\n",
              "      <td>2022-06-21T17:30:09Z</td>\n",
              "      <td>149837</td>\n",
              "    </tr>\n",
              "    <tr>\n",
              "      <th>149837</th>\n",
              "      <td>australia-news/2022/jun/22/power-to-ban-citize...</td>\n",
              "      <td>Australia news</td>\n",
              "      <td>Power to ban citizens from re-entering Austral...</td>\n",
              "      <td>https://www.theguardian.com/australia-news/202...</td>\n",
              "      <td>A high court decision striking down the home a...</td>\n",
              "      <td>2022-06-21T17:30:08Z</td>\n",
              "      <td>149838</td>\n",
              "    </tr>\n",
              "    <tr>\n",
              "      <th>149838</th>\n",
              "      <td>australia-news/2022/jun/22/liberal-mps-say-pet...</td>\n",
              "      <td>Australia news</td>\n",
              "      <td>Liberal MPs say Peter Dutton should let party ...</td>\n",
              "      <td>https://www.theguardian.com/australia-news/202...</td>\n",
              "      <td>Liberal MPs are urging Peter Dutton to let the...</td>\n",
              "      <td>2022-06-21T17:30:08Z</td>\n",
              "      <td>149839</td>\n",
              "    </tr>\n",
              "  </tbody>\n",
              "</table>\n",
              "<p>70723 rows × 7 columns</p>\n",
              "</div>\n",
              "      <button class=\"colab-df-convert\" onclick=\"convertToInteractive('df-5353a9f7-28f5-4806-aa1b-9ee1b5f77da9')\"\n",
              "              title=\"Convert this dataframe to an interactive table.\"\n",
              "              style=\"display:none;\">\n",
              "        \n",
              "  <svg xmlns=\"http://www.w3.org/2000/svg\" height=\"24px\"viewBox=\"0 0 24 24\"\n",
              "       width=\"24px\">\n",
              "    <path d=\"M0 0h24v24H0V0z\" fill=\"none\"/>\n",
              "    <path d=\"M18.56 5.44l.94 2.06.94-2.06 2.06-.94-2.06-.94-.94-2.06-.94 2.06-2.06.94zm-11 1L8.5 8.5l.94-2.06 2.06-.94-2.06-.94L8.5 2.5l-.94 2.06-2.06.94zm10 10l.94 2.06.94-2.06 2.06-.94-2.06-.94-.94-2.06-.94 2.06-2.06.94z\"/><path d=\"M17.41 7.96l-1.37-1.37c-.4-.4-.92-.59-1.43-.59-.52 0-1.04.2-1.43.59L10.3 9.45l-7.72 7.72c-.78.78-.78 2.05 0 2.83L4 21.41c.39.39.9.59 1.41.59.51 0 1.02-.2 1.41-.59l7.78-7.78 2.81-2.81c.8-.78.8-2.07 0-2.86zM5.41 20L4 18.59l7.72-7.72 1.47 1.35L5.41 20z\"/>\n",
              "  </svg>\n",
              "      </button>\n",
              "      \n",
              "  <style>\n",
              "    .colab-df-container {\n",
              "      display:flex;\n",
              "      flex-wrap:wrap;\n",
              "      gap: 12px;\n",
              "    }\n",
              "\n",
              "    .colab-df-convert {\n",
              "      background-color: #E8F0FE;\n",
              "      border: none;\n",
              "      border-radius: 50%;\n",
              "      cursor: pointer;\n",
              "      display: none;\n",
              "      fill: #1967D2;\n",
              "      height: 32px;\n",
              "      padding: 0 0 0 0;\n",
              "      width: 32px;\n",
              "    }\n",
              "\n",
              "    .colab-df-convert:hover {\n",
              "      background-color: #E2EBFA;\n",
              "      box-shadow: 0px 1px 2px rgba(60, 64, 67, 0.3), 0px 1px 3px 1px rgba(60, 64, 67, 0.15);\n",
              "      fill: #174EA6;\n",
              "    }\n",
              "\n",
              "    [theme=dark] .colab-df-convert {\n",
              "      background-color: #3B4455;\n",
              "      fill: #D2E3FC;\n",
              "    }\n",
              "\n",
              "    [theme=dark] .colab-df-convert:hover {\n",
              "      background-color: #434B5C;\n",
              "      box-shadow: 0px 1px 3px 1px rgba(0, 0, 0, 0.15);\n",
              "      filter: drop-shadow(0px 1px 2px rgba(0, 0, 0, 0.3));\n",
              "      fill: #FFFFFF;\n",
              "    }\n",
              "  </style>\n",
              "\n",
              "      <script>\n",
              "        const buttonEl =\n",
              "          document.querySelector('#df-5353a9f7-28f5-4806-aa1b-9ee1b5f77da9 button.colab-df-convert');\n",
              "        buttonEl.style.display =\n",
              "          google.colab.kernel.accessAllowed ? 'block' : 'none';\n",
              "\n",
              "        async function convertToInteractive(key) {\n",
              "          const element = document.querySelector('#df-5353a9f7-28f5-4806-aa1b-9ee1b5f77da9');\n",
              "          const dataTable =\n",
              "            await google.colab.kernel.invokeFunction('convertToInteractive',\n",
              "                                                     [key], {});\n",
              "          if (!dataTable) return;\n",
              "\n",
              "          const docLinkHtml = 'Like what you see? Visit the ' +\n",
              "            '<a target=\"_blank\" href=https://colab.research.google.com/notebooks/data_table.ipynb>data table notebook</a>'\n",
              "            + ' to learn more about interactive tables.';\n",
              "          element.innerHTML = '';\n",
              "          dataTable['output_type'] = 'display_data';\n",
              "          await google.colab.output.renderOutput(dataTable, element);\n",
              "          const docLink = document.createElement('div');\n",
              "          docLink.innerHTML = docLinkHtml;\n",
              "          element.appendChild(docLink);\n",
              "        }\n",
              "      </script>\n",
              "    </div>\n",
              "  </div>\n",
              "  "
            ]
          },
          "metadata": {},
          "execution_count": 6
        }
      ],
      "source": [
        "df.dropna()"
      ]
    },
    {
      "cell_type": "code",
      "execution_count": null,
      "metadata": {
        "colab": {
          "base_uri": "https://localhost:8080/"
        },
        "id": "MElTw3NinV6v",
        "outputId": "49b4fe3b-d217-48d3-cb54-c18d2c2d480e"
      },
      "outputs": [
        {
          "output_type": "execute_result",
          "data": {
            "text/plain": [
              "bodyContent           578\n",
              "article_id              0\n",
              "sectionName             0\n",
              "webTitle                0\n",
              "webUrl                  0\n",
              "webPublicationDate      0\n",
              "id                      0\n",
              "dtype: int64"
            ]
          },
          "metadata": {},
          "execution_count": 7
        }
      ],
      "source": [
        "df.isnull().sum().sort_values(ascending = False)"
      ]
    },
    {
      "cell_type": "code",
      "execution_count": null,
      "metadata": {
        "id": "goSmr5HOneFB"
      },
      "outputs": [],
      "source": [
        "df['text']=df['bodyContent'].fillna(\"\")"
      ]
    },
    {
      "cell_type": "code",
      "execution_count": null,
      "metadata": {
        "colab": {
          "base_uri": "https://localhost:8080/"
        },
        "id": "U-yolfScNpAT",
        "outputId": "83439e15-8b6e-415d-cb1e-72ceb966431e"
      },
      "outputs": [
        {
          "output_type": "execute_result",
          "data": {
            "text/plain": [
              "World news        15501\n",
              "Opinion           12130\n",
              "Football          10896\n",
              "Sport             10376\n",
              "Australia news     7844\n",
              "US news            7480\n",
              "Politics           7074\n",
              "Name: sectionName, dtype: int64"
            ]
          },
          "metadata": {},
          "execution_count": 9
        }
      ],
      "source": [
        "df['sectionName'].value_counts()"
      ]
    },
    {
      "cell_type": "code",
      "execution_count": null,
      "metadata": {
        "id": "7hzAoevTwMOP"
      },
      "outputs": [],
      "source": [
        "from keras.utils.np_utils import to_categorical\n",
        "labels = to_categorical(df['sectionName'].astype('category').cat.codes)\n",
        "# Split the data into train and test sets\n",
        "# train_data, test_data, train_labels, test_labels = train_test_split(data, labels, test_size=0.2)"
      ]
    },
    {
      "cell_type": "code",
      "execution_count": null,
      "metadata": {
        "id": "RCwOVDPkpakk"
      },
      "outputs": [],
      "source": [
        "from sklearn.model_selection import train_test_split\n",
        "\n",
        "X_train, X_test, y_train, y_test = train_test_split(df['text'],labels,test_size=0.2)"
      ]
    },
    {
      "cell_type": "code",
      "execution_count": null,
      "metadata": {
        "colab": {
          "base_uri": "https://localhost:8080/"
        },
        "id": "GPcLK0DuwMOP",
        "outputId": "83838c68-c5cd-4188-e71a-3e60518da8ce"
      },
      "outputs": [
        {
          "output_type": "execute_result",
          "data": {
            "text/plain": [
              "array([[0., 0., 1., ..., 0., 0., 0.],\n",
              "       [0., 0., 0., ..., 0., 0., 1.],\n",
              "       [0., 0., 0., ..., 1., 0., 0.],\n",
              "       ...,\n",
              "       [0., 0., 0., ..., 0., 0., 1.],\n",
              "       [0., 0., 1., ..., 0., 0., 0.],\n",
              "       [1., 0., 0., ..., 0., 0., 0.]], dtype=float32)"
            ]
          },
          "metadata": {},
          "execution_count": 12
        }
      ],
      "source": [
        "y_train"
      ]
    },
    {
      "cell_type": "code",
      "execution_count": null,
      "metadata": {
        "id": "MKUF98xowMOQ"
      },
      "outputs": [],
      "source": [
        "import os\n",
        "os.environ[\"TFHUB_CACHE_DIR\"] = \"some_dir\""
      ]
    },
    {
      "cell_type": "code",
      "execution_count": null,
      "metadata": {
        "id": "iL9xpIzVptoG"
      },
      "outputs": [],
      "source": [
        "import tensorflow_hub as hub\n",
        "bert_preprocess = hub.KerasLayer(\"https://tfhub.dev/tensorflow/bert_en_uncased_preprocess/3\")\n",
        "bert_encoder = hub.KerasLayer(\"https://tfhub.dev/tensorflow/bert_en_uncased_L-12_H-768_A-12/4\")"
      ]
    },
    {
      "cell_type": "code",
      "execution_count": null,
      "metadata": {
        "id": "Hss6nPs3wMOQ"
      },
      "outputs": [],
      "source": [
        "# Define the number of classes in our dataset\n",
        "# num_classes = 29\n",
        "\n",
        "# Define the BERT model layers\n",
        "text_input = tf.keras.layers.Input(shape=(), dtype=tf.string, name='text')\n",
        "preprocessed_text = bert_preprocess(text_input)\n",
        "outputs = bert_encoder(preprocessed_text)\n",
        "\n",
        "# Define the neural network layers\n",
        "l = tf.keras.layers.Dropout(0.1, name=\"dropout\")(outputs['pooled_output'])\n",
        "l = tf.keras.layers.Dense(45, activation='sigmoid')(l)\n",
        "l = tf.keras.layers.Dense(7, activation='softmax', name=\"output\")(l)\n",
        "\n",
        "# Use inputs and outputs to construct a final model\n",
        "model = tf.keras.Model(inputs=[text_input], outputs=[l])\n",
        "\n",
        "# Compile the model with categorical_crossentropy loss and accuracy metric\n",
        "# model.compile(optimizer='adam', loss='sparse_categorical_crossentropy', metrics=['accuracy'])\n"
      ]
    },
    {
      "cell_type": "code",
      "execution_count": null,
      "metadata": {
        "id": "z_iHCbYFpaqe",
        "scrolled": true,
        "colab": {
          "base_uri": "https://localhost:8080/"
        },
        "outputId": "d60e653d-a53d-4b3b-c472-21982849c8e2"
      },
      "outputs": [
        {
          "output_type": "stream",
          "name": "stdout",
          "text": [
            "Model: \"model\"\n",
            "__________________________________________________________________________________________________\n",
            " Layer (type)                   Output Shape         Param #     Connected to                     \n",
            "==================================================================================================\n",
            " text (InputLayer)              [(None,)]            0           []                               \n",
            "                                                                                                  \n",
            " keras_layer (KerasLayer)       {'input_mask': (Non  0           ['text[0][0]']                   \n",
            "                                e, 128),                                                          \n",
            "                                 'input_word_ids':                                                \n",
            "                                (None, 128),                                                      \n",
            "                                 'input_type_ids':                                                \n",
            "                                (None, 128)}                                                      \n",
            "                                                                                                  \n",
            " keras_layer_1 (KerasLayer)     {'default': (None,   109482241   ['keras_layer[0][0]',            \n",
            "                                768),                             'keras_layer[0][1]',            \n",
            "                                 'encoder_outputs':               'keras_layer[0][2]']            \n",
            "                                 [(None, 128, 768),                                               \n",
            "                                 (None, 128, 768),                                                \n",
            "                                 (None, 128, 768),                                                \n",
            "                                 (None, 128, 768),                                                \n",
            "                                 (None, 128, 768),                                                \n",
            "                                 (None, 128, 768),                                                \n",
            "                                 (None, 128, 768),                                                \n",
            "                                 (None, 128, 768),                                                \n",
            "                                 (None, 128, 768),                                                \n",
            "                                 (None, 128, 768),                                                \n",
            "                                 (None, 128, 768),                                                \n",
            "                                 (None, 128, 768)],                                               \n",
            "                                 'pooled_output': (                                               \n",
            "                                None, 768),                                                       \n",
            "                                 'sequence_output':                                               \n",
            "                                 (None, 128, 768)}                                                \n",
            "                                                                                                  \n",
            " dropout (Dropout)              (None, 768)          0           ['keras_layer_1[0][13]']         \n",
            "                                                                                                  \n",
            " dense (Dense)                  (None, 45)           34605       ['dropout[0][0]']                \n",
            "                                                                                                  \n",
            " output (Dense)                 (None, 7)            322         ['dense[0][0]']                  \n",
            "                                                                                                  \n",
            "==================================================================================================\n",
            "Total params: 109,517,168\n",
            "Trainable params: 34,927\n",
            "Non-trainable params: 109,482,241\n",
            "__________________________________________________________________________________________________\n"
          ]
        }
      ],
      "source": [
        "model.summary()"
      ]
    },
    {
      "cell_type": "code",
      "execution_count": null,
      "metadata": {
        "colab": {
          "base_uri": "https://localhost:8080/"
        },
        "id": "dIxp77TTwMOa",
        "outputId": "8689755b-2fb4-49ad-92fa-41d200f1ecba"
      },
      "outputs": [
        {
          "output_type": "stream",
          "name": "stdout",
          "text": [
            "Epoch 1/5\n",
            "1426/1426 [==============================] - 802s 552ms/step - loss: 1.1338 - accuracy: 0.6014 - val_loss: 0.8171 - val_accuracy: 0.7097\n",
            "Epoch 2/5\n",
            "1426/1426 [==============================] - 792s 556ms/step - loss: 0.7970 - accuracy: 0.7158 - val_loss: 0.7418 - val_accuracy: 0.7277\n",
            "Epoch 3/5\n",
            "1426/1426 [==============================] - 788s 552ms/step - loss: 0.7459 - accuracy: 0.7281 - val_loss: 0.6348 - val_accuracy: 0.7731\n",
            "Epoch 4/5\n",
            "1426/1426 [==============================] - 788s 553ms/step - loss: 0.7240 - accuracy: 0.7388 - val_loss: 0.6367 - val_accuracy: 0.7650\n",
            "Epoch 5/5\n",
            "1426/1426 [==============================] - 787s 552ms/step - loss: 0.7071 - accuracy: 0.7418 - val_loss: 0.6426 - val_accuracy: 0.7682\n"
          ]
        }
      ],
      "source": [
        "model.compile(optimizer='adam',\n",
        "               loss='categorical_crossentropy',\n",
        "              metrics=['accuracy'])\n",
        "his=model.fit(X_train,y_train,validation_split=0.2, epochs=5)"
      ]
    },
    {
      "cell_type": "code",
      "execution_count": null,
      "metadata": {
        "id": "nbxfQqQuwMOc"
      },
      "outputs": [],
      "source": [
        "from keras.models import Sequential, load_model\n",
        "#from tensorflow.keras.layers import KerasLayer\n",
        "import pickle\n",
        "#saving model\n",
        "model.save('BERT_word_model.h5')\n",
        "pickle.dump(his, open(\"history.p\", \"wb\"))"
      ]
    },
    {
      "cell_type": "code",
      "source": [
        "acc = model.evaluate(X_test,y_test,verbose=0) # verbose kept 0 to avoid way too big progress bar\n",
        "print('Test set\\n  Loss: {:0.3f}\\n  Accuracy: {:0.3f}'.format(acc[0],acc[1]))"
      ],
      "metadata": {
        "colab": {
          "base_uri": "https://localhost:8080/"
        },
        "id": "L5QNM6DvGNNV",
        "outputId": "f5984256-3f1f-4999-ab37-7b799f3585d0"
      },
      "execution_count": null,
      "outputs": [
        {
          "output_type": "stream",
          "name": "stdout",
          "text": [
            "Test set\n",
            "  Loss: 0.639\n",
            "  Accuracy: 0.770\n"
          ]
        }
      ]
    },
    {
      "cell_type": "code",
      "source": [
        "acc=his.history['accuracy']\n",
        "val_acc=his.history['val_accuracy']\n",
        "loss=his.history['loss']\n",
        "val_loss=his.history['val_loss']"
      ],
      "metadata": {
        "id": "N7GroXpGHEoa"
      },
      "execution_count": null,
      "outputs": []
    },
    {
      "cell_type": "code",
      "source": [
        "import matplotlib.pyplot as plt\n",
        "plt.title('BERT Accuracy Curve')\n",
        "plt.xlabel('Epochs')\n",
        "plt.ylabel('Accuracy')\n",
        "plt.plot(range(len(acc)),acc, label='train')\n",
        "plt.plot(range(len(val_acc)),val_acc, label='test')\n",
        "plt.legend()\n",
        "plt.show()"
      ],
      "metadata": {
        "colab": {
          "base_uri": "https://localhost:8080/",
          "height": 472
        },
        "id": "y13nKD0RHUzU",
        "outputId": "5b868754-2ce2-4f56-8d89-dcda92c32d62"
      },
      "execution_count": null,
      "outputs": [
        {
          "output_type": "display_data",
          "data": {
            "text/plain": [
              "<Figure size 640x480 with 1 Axes>"
            ],
            "image/png": "[encoded data removed]"
          },
          "metadata": {}
        }
      ]
    },
    {
      "cell_type": "code",
      "source": [
        "plt.title('BERT Loss Curve')\n",
        "plt.xlabel('Epochs')\n",
        "plt.ylabel('Loss')\n",
        "plt.plot(range(len(loss)),loss, label='train')\n",
        "plt.plot(range(len(val_loss)),val_loss, label='test')\n",
        "plt.legend()\n",
        "plt.show()"
      ],
      "metadata": {
        "colab": {
          "base_uri": "https://localhost:8080/",
          "height": 472
        },
        "id": "yh3w3D52HgBR",
        "outputId": "1ef9c484-046e-46aa-8012-758401bcbee5"
      },
      "execution_count": null,
      "outputs": [
        {
          "output_type": "display_data",
          "data": {
            "text/plain": [
              "<Figure size 640x480 with 1 Axes>"
            ],
            "image/png": "[encoded data removed]"
          },
          "metadata": {}
        }
      ]
    }
  ],
  "metadata": {
    "colab": {
      "provenance": [],
      "gpuType": "T4"
    },
    "kernelspec": {
      "display_name": "Python 3 (ipykernel)",
      "language": "python",
      "name": "python3"
    },
    "language_info": {
      "codemirror_mode": {
        "name": "ipython",
        "version": 3
      },
      "file_extension": ".py",
      "mimetype": "text/x-python",
      "name": "python",
      "nbconvert_exporter": "python",
      "pygments_lexer": "ipython3",
      "version": "3.9.12"
    },
    "accelerator": "GPU",
    "gpuClass": "standard"
  },
  "nbformat": 4,
  "nbformat_minor": 0
}
